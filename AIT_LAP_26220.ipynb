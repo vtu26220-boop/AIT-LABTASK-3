{
  "nbformat": 4,
  "nbformat_minor": 0,
  "metadata": {
    "colab": {
      "provenance": [],
      "authorship_tag": "ABX9TyPuYEM/+2hV46GFv0EwR/+H",
      "include_colab_link": true
    },
    "kernelspec": {
      "name": "python3",
      "display_name": "Python 3"
    },
    "language_info": {
      "name": "python"
    }
  },
  "cells": [
    {
      "cell_type": "markdown",
      "metadata": {
        "id": "view-in-github",
        "colab_type": "text"
      },
      "source": [
        "<a href=\"https://colab.research.google.com/github/vtu26220-boop/AIT-LABTASK-3/blob/main/AIT_LAP_26220.ipynb\" target=\"_parent\"><img src=\"https://colab.research.google.com/assets/colab-badge.svg\" alt=\"Open In Colab\"/></a>"
      ]
    },
    {
      "cell_type": "code",
      "execution_count": 33,
      "metadata": {
        "id": "cCJ0jiGIDQph",
        "colab": {
          "base_uri": "https://localhost:8080/"
        },
        "outputId": "b7262d09-9f27-4310-c367-0b5fe5fc2c4b"
      },
      "outputs": [
        {
          "output_type": "stream",
          "name": "stdout",
          "text": [
            "Valid configurations for placing 4 guards:\n",
            "\n",
            ". G . .\n",
            ". . . G\n",
            "G . . .\n",
            ". . G .\n",
            "\n",
            ". . G .\n",
            "G . . .\n",
            ". . . G\n",
            ". G . .\n",
            "\n"
          ]
        },
        {
          "output_type": "execute_result",
          "data": {
            "text/plain": [
              "True"
            ]
          },
          "metadata": {},
          "execution_count": 33
        }
      ],
      "source": [
        "N = 4 # Size of the grid\n",
        "# Function to print the board\n",
        "def print_board(board):\n",
        "    for row in board:\n",
        "        print(\" \".join('G' if col else '.' for col in row))\n",
        "    print()\n",
        "\n",
        "# Check if it's safe to place a guard at board[row][col]\n",
        "def is_safe(board, row, col):\n",
        "    # Check vertical up\n",
        "    for i in range(row):\n",
        "        if board[i][col] == 1:\n",
        "            return False\n",
        "    # Check upper left diagonal\n",
        "    i, j = row - 1, col - 1\n",
        "    while i >= 0 and j >= 0:\n",
        "        if board[i][j] == 1:\n",
        "            return False\n",
        "        i -= 1\n",
        "        j -= 1\n",
        "    # Check upper right diagonal\n",
        "    i, j = row - 1, col + 1\n",
        "    while i >= 0 and j < N:\n",
        "        if board[i][j] == 1:\n",
        "            return False\n",
        "        i -= 1\n",
        "        j += 1\n",
        "    return True\n",
        "\n",
        "# Backtracking function\n",
        "def solve_n_queens(board, row):\n",
        "    if row == N:\n",
        "        print_board(board)\n",
        "        return True\n",
        "    res = False\n",
        "    for col in range(N):\n",
        "        if is_safe(board, row, col):\n",
        "            board[row][col] = 1\n",
        "            res = solve_n_queens(board, row + 1) or res\n",
        "            board[row][col] = 0  # Backtrack\n",
        "    return res\n",
        "\n",
        "# Initialize the board\n",
        "board = [[0 for _ in range(N)] for _ in range(N)]\n",
        "print(\"Valid configurations for placing 4 guards:\\n\")\n",
        "solve_n_queens(board, 0)\n"
      ]
    },
    {
      "cell_type": "code",
      "source": [],
      "metadata": {
        "id": "KrJ0YEchFiaK"
      },
      "execution_count": 33,
      "outputs": []
    },
    {
      "cell_type": "markdown",
      "source": [
        "task 8"
      ],
      "metadata": {
        "id": "EOnDAe49Hett"
      }
    },
    {
      "cell_type": "code",
      "source": [
        "# Grid coordinates: (x, y)\n",
        "toy_position = (2, 2)        # Toy is placed at center ceiling\n",
        "box_position = [0, 0]        # Initial box position\n",
        "puppy_position = [0, 1]      # Puppy starts in corner\n",
        "has_toy = False\n",
        "on_box = False\n",
        "\n",
        "# Action log\n",
        "actions = []\n",
        "\n",
        "# Define room size (optional for visualization)\n",
        "room_size = 3  # 3x3 grid\n",
        "\n",
        "\n",
        "# ---------- Helper functions ---------- #\n",
        "def walk(to):\n",
        "    \"\"\"Move the puppy to a location.\"\"\"\n",
        "    global puppy_position\n",
        "    actions.append(f\"Walk from {tuple(puppy_position)} to {to}\")\n",
        "    puppy_position[0], puppy_position[1] = to\n",
        "\n",
        "\n",
        "def push_box(to):\n",
        "    \"\"\"Push the box to a location (puppy moves with box).\"\"\"\n",
        "    global puppy_position, box_position\n",
        "    actions.append(f\"Push box from {tuple(box_position)} to {to}\")\n",
        "    box_position[0], box_position[1] = to\n",
        "    puppy_position[0], puppy_position[1] = to\n",
        "\n",
        "\n",
        "def climb_box():\n",
        "    \"\"\"Puppy climbs onto the box.\"\"\"\n",
        "    global on_box\n",
        "    actions.append(\"Climb on box\")\n",
        "    on_box = True\n",
        "\n",
        "\n",
        "def grab_toy():\n",
        "    \"\"\"Puppy grabs the toy.\"\"\"\n",
        "    global has_toy\n",
        "    actions.append(\"Grab the toy\")\n",
        "    has_toy = True\n",
        "\n",
        "\n",
        "# ---------- Goal Stack Planning ---------- #\n",
        "stack = ['HasToy']\n",
        "\n",
        "while stack:\n",
        "    goal = stack.pop()\n",
        "\n",
        "    if goal == 'HasToy':\n",
        "        if has_toy:\n",
        "            continue\n",
        "        if puppy_position == box_position == list(toy_position) and on_box:\n",
        "            grab_toy()\n",
        "        else:\n",
        "            stack.append('HasToy')                      # retry after subgoals\n",
        "            stack.append('OnBox')\n",
        "            stack.append(('MoveBoxUnderToy', toy_position))\n",
        "\n",
        "    elif goal == 'OnBox':\n",
        "        if on_box:\n",
        "            continue\n",
        "        if puppy_position == box_position:\n",
        "            climb_box()\n",
        "        else:\n",
        "            stack.append('OnBox')\n",
        "            stack.append(('WalkTo', tuple(box_position)))\n",
        "\n",
        "    elif isinstance(goal, tuple) and goal[0] == 'MoveBoxUnderToy':\n",
        "        target = goal[1]\n",
        "        if box_position == list(target):\n",
        "            continue\n",
        "        stack.append(('MoveBoxUnderToy', target))\n",
        "        stack.append(('WalkTo', tuple(box_position)))\n",
        "        stack.append(('PushBoxTo', target))\n",
        "\n",
        "    elif isinstance(goal, tuple) and goal[0] == 'WalkTo':\n",
        "        target = goal[1]\n",
        "        if puppy_position == list(target):\n",
        "            continue\n",
        "        walk(target)\n",
        "\n",
        "    elif isinstance(goal, tuple) and goal[0] == 'PushBoxTo':\n",
        "        target = goal[1]\n",
        "        if box_position == list(target):\n",
        "            continue\n",
        "        push_box(target)\n",
        "\n",
        "\n",
        "# ---------- Display the steps ---------- #\n",
        "print(\"Plan to achieve goal:\")\n",
        "for step in actions:\n",
        "    print(\"-\", step)\n",
        "\n",
        "# ---------- Final state ---------- #\n",
        "print(\"\\nFinal State:\")\n",
        "print(\"Puppy Position:\", tuple(puppy_position))\n",
        "print(\"Box Position:\", tuple(box_position))\n",
        "print(\"On Box:\", on_box)\n",
        "print(\"Has Toy:\", has_toy)\n"
      ],
      "metadata": {
        "colab": {
          "base_uri": "https://localhost:8080/"
        },
        "id": "P3_--ZmdHmCm",
        "outputId": "69fc2f11-12eb-4f17-d042-cb1a147fa0e3"
      },
      "execution_count": 34,
      "outputs": [
        {
          "output_type": "stream",
          "name": "stdout",
          "text": [
            "Plan to achieve goal:\n",
            "- Push box from (0, 0) to (2, 2)\n",
            "- Walk from (2, 2) to (0, 0)\n",
            "- Walk from (0, 0) to (2, 2)\n",
            "- Climb on box\n",
            "- Grab the toy\n",
            "\n",
            "Final State:\n",
            "Puppy Position: (2, 2)\n",
            "Box Position: (2, 2)\n",
            "On Box: True\n",
            "Has Toy: True\n"
          ]
        }
      ]
    },
    {
      "cell_type": "markdown",
      "source": [
        "task 7.B"
      ],
      "metadata": {
        "id": "YbXaONslJZ1m"
      }
    },
    {
      "cell_type": "code",
      "source": [
        "from collections import deque\n",
        "def bfs_shortest_path(graph, start, goal):\n",
        "    visited = set()\n",
        "    queue = deque([[start]])\n",
        "    if start == goal:\n",
        "        return [start]\n",
        "    while queue:\n",
        "        path = queue.popleft()\n",
        "        node = path[-1]\n",
        "        if node not in visited:\n",
        "            for neighbor in graph[node]:\n",
        "                new_path = list(path)\n",
        "                new_path.append(neighbor)\n",
        "                queue.append(new_path)\n",
        "                if neighbor == goal:\n",
        "                    return new_path\n",
        "            visited.add(node)\n",
        "    return None\n",
        "# Example graph representing intersections and roads\n",
        "city_graph = {\n",
        "    'A': ['B', 'C'],\n",
        "    'B': ['A', 'D', 'E'],\n",
        "    'C': ['A', 'F'],\n",
        "    'D': ['B'],\n",
        "    'E': ['B', 'F'],\n",
        "    'F': ['C', 'E']\n",
        "}\n",
        "# Test\n",
        "start = 'A'\n",
        "goal = 'F'\n",
        "shortest_path = bfs_shortest_path(city_graph, start, goal)\n",
        "print(\"Shortest path from\", start, \"to\", goal, \"is:\", shortest_path)\n"
      ],
      "metadata": {
        "colab": {
          "base_uri": "https://localhost:8080/"
        },
        "id": "QINMDqxzGgHR",
        "outputId": "9ce61f23-6314-4603-92ad-7be21fe79a63"
      },
      "execution_count": 35,
      "outputs": [
        {
          "output_type": "stream",
          "name": "stdout",
          "text": [
            "Shortest path from A to F is: ['A', 'C', 'F']\n"
          ]
        }
      ]
    },
    {
      "cell_type": "markdown",
      "source": [
        "task 1 BFS"
      ],
      "metadata": {
        "id": "6zLhERCgH-9x"
      }
    },
    {
      "cell_type": "code",
      "source": [
        "graph = {\n",
        "    'A': ['B', 'C'],\n",
        "    'B': ['D', 'E'],\n",
        "    'C': ['F'],\n",
        "    'D': [],\n",
        "    'E': ['G'],\n",
        "    'F': [],\n",
        "    'G': []\n",
        "}\n",
        "\n",
        "visited_dfs = set()\n",
        "stack = []\n",
        "\n",
        "def dfs_stack_recursive():\n",
        "    if not stack:\n",
        "        return\n",
        "    current = stack[-1]\n",
        "    unvisited_found = False\n",
        "    for neighbor in graph[current]:\n",
        "        if neighbor not in visited_dfs:\n",
        "            visited_dfs.add(neighbor)\n",
        "            print(neighbor, end=\" \")\n",
        "            stack.append(neighbor)\n",
        "            unvisited_found = True\n",
        "            break\n",
        "    if not unvisited_found:\n",
        "        stack.pop()\n",
        "    dfs_stack_recursive()\n",
        "\n",
        "start_node_dfs = 'A'\n",
        "visited_dfs.add(start_node_dfs)\n",
        "stack.append(start_node_dfs)\n",
        "\n",
        "print(\"\\nDFS Traversal Output:\")\n",
        "print(start_node_dfs, end=\" \")\n",
        "dfs_stack_recursive()\n",
        "\n",
        "# DFS for forest hotspot\n",
        "def dfs_forest(grid, x, y, visited, path):\n",
        "    rows, cols = len(grid), len(grid[0])\n",
        "    # Boundary and obstacle check\n",
        "    if x < 0 or y < 0 or x >= rows or y >= cols or grid[x][y] == 'X' or visited[x][y]:\n",
        "        return False\n",
        "\n",
        "    path.append((x, y))\n",
        "    visited[x][y] = True\n",
        "    if grid[x][y] == 'H':\n",
        "        return True\n",
        "\n",
        "    # Move in 4 directions\n",
        "    for dx, dy in [(-1,0), (1,0), (0,-1), (0,1)]:\n",
        "        if dfs_forest(grid, x+dx, y+dy, visited, path):\n",
        "            return True\n",
        "\n",
        "    path.pop()\n",
        "    return False\n",
        "\n",
        "# Forest grid\n",
        "forest = [\n",
        "    ['S', 'O', 'X', 'O'],\n",
        "    ['X', 'O', 'X', 'O'],\n",
        "    ['O', 'O', 'O', 'H'],\n",
        "    ['X', 'X', 'O', 'X']\n",
        "]\n",
        "\n",
        "rows, cols = len(forest), len(forest[0])\n",
        "visited = [[False for _ in range(cols)] for _ in range(rows)]\n",
        "path = []\n",
        "\n",
        "# Find start point\n",
        "for i in range(rows):\n",
        "    for j in range(cols):\n",
        "        if forest[i][j] == 'S':\n",
        "            start_x, start_y = i, j\n",
        "\n",
        "found = dfs_forest(forest, start_x, start_y, visited, path)\n",
        "if found:\n",
        "    print(\"Path to hotspot:\", path)\n",
        "else:\n",
        "    print(\"No hotspot found.\")\n"
      ],
      "metadata": {
        "colab": {
          "base_uri": "https://localhost:8080/"
        },
        "id": "QTppYysmIC4Q",
        "outputId": "f4430a04-1834-45a5-86fa-2279e20c79c1"
      },
      "execution_count": 36,
      "outputs": [
        {
          "output_type": "stream",
          "name": "stdout",
          "text": [
            "\n",
            "DFS Traversal Output:\n",
            "A B D E G C F Path to hotspot: [(0, 0), (0, 1), (1, 1), (2, 1), (2, 2), (2, 3)]\n"
          ]
        }
      ]
    },
    {
      "cell_type": "markdown",
      "source": [
        "task 1.2 DFS"
      ],
      "metadata": {
        "id": "zxM6PxauKUIe"
      }
    },
    {
      "cell_type": "code",
      "source": [
        "import random\n",
        "\n",
        "# Sample 2D grid (5x6)\n",
        "warehouse = [\n",
        "    ['S', 'O', 'O', 'X', 'O', 'O'],\n",
        "    ['X', 'X', 'O', 'X', 'O', 'X'],\n",
        "    ['O', 'O', 'X', 'O', 'O', 'O'],\n",
        "    ['O', 'X', 'X', 'X', 'X', 'O'],\n",
        "    ['O', 'O', 'O', 'G', 'O', 'O']\n",
        "]\n",
        "\n",
        "# Define goal and start\n",
        "def find_position(grid, char):\n",
        "    for i in range(len(grid)):\n",
        "        for j in range(len(grid[0])):\n",
        "            if grid[i][j] == char:\n",
        "                return (i, j)\n",
        "\n",
        "start = find_position(warehouse, 'S')\n",
        "goal = find_position(warehouse, 'G')\n",
        "\n",
        "# Manhattan distance heuristic\n",
        "def heuristic(pos, goal):\n",
        "    return abs(pos[0] - goal[0]) + abs(pos[1] - goal[1])\n",
        "\n",
        "# Valid neighbors (up, down, left, right)\n",
        "def get_neighbors(grid, position):\n",
        "    x, y = position\n",
        "    moves = [(-1, 0), (1, 0), (0, -1), (0, 1)]\n",
        "    neighbors = []\n",
        "    for dx, dy in moves:\n",
        "        nx, ny = x + dx, y + dy\n",
        "        if 0 <= nx < len(grid) and 0 <= ny < len(grid[0]):\n",
        "            if grid[nx][ny] in ['O', 'G']:  # not blocked\n",
        "                neighbors.append((nx, ny))\n",
        "    return neighbors\n",
        "\n",
        "# Hill Climbing Algorithm\n",
        "def hill_climbing(grid, start, goal):\n",
        "    current = start\n",
        "    path = [current]\n",
        "    while current != goal:\n",
        "        neighbors = get_neighbors(grid, current)\n",
        "        if not neighbors:\n",
        "            print(\"Stuck at local maximum. No path to goal.\")\n",
        "            return path\n",
        "        next_move = min(neighbors, key=lambda n: heuristic(n, goal))\n",
        "        if heuristic(next_move, goal) >= heuristic(current, goal):\n",
        "            print(\"Reached local maximum. Cannot improve further.\")\n",
        "            return path\n",
        "        current = next_move\n",
        "        path.append(current)\n",
        "    return path\n",
        "\n",
        "# Run the algorithm\n",
        "path = hill_climbing(warehouse, start, goal)\n",
        "\n",
        "# Print path\n",
        "print(\"\\nPath found:\")\n",
        "for step in path:\n",
        "    print(step)\n"
      ],
      "metadata": {
        "colab": {
          "base_uri": "https://localhost:8080/"
        },
        "collapsed": true,
        "id": "qmunjPjcLdud",
        "outputId": "0d51fc5f-a4b4-411a-fd1c-3ebdde88cc3a"
      },
      "execution_count": 37,
      "outputs": [
        {
          "output_type": "stream",
          "name": "stdout",
          "text": [
            "Reached local maximum. Cannot improve further.\n",
            "\n",
            "Path found:\n",
            "(0, 0)\n",
            "(0, 1)\n",
            "(0, 2)\n",
            "(1, 2)\n"
          ]
        }
      ]
    },
    {
      "cell_type": "markdown",
      "source": [
        "TASK 2"
      ],
      "metadata": {
        "id": "Q3iMjcYFNfhM"
      }
    },
    {
      "cell_type": "code",
      "source": [
        "import heapq\n",
        "\n",
        "def manhattan_distance(a, b):\n",
        "    return abs(a[0] - b[0]) + abs(a[1] - b[1])\n",
        "\n",
        "def a_star_search(start, goal, graph):\n",
        "    open_list = []\n",
        "    heapq.heappush(open_list, (0, start))  # (f_score, node)\n",
        "    came_from = {}\n",
        "\n",
        "    g_score = {node: float('inf') for node in graph}\n",
        "    g_score[start] = 0\n",
        "\n",
        "    f_score = {node: float('inf') for node in graph}\n",
        "    f_score[start] = manhattan_distance(start, goal)\n",
        "\n",
        "    while open_list:\n",
        "        current_f, current = heapq.heappop(open_list)\n",
        "\n",
        "        if current == goal:\n",
        "            # Reconstruct path\n",
        "            path = []\n",
        "            total_cost = g_score[goal]\n",
        "            while current in came_from:\n",
        "                path.append(current)\n",
        "                current = came_from[current]\n",
        "            path.append(start)\n",
        "            path.reverse()\n",
        "            return path, total_cost\n",
        "\n",
        "        for neighbor, cost in graph[current]:\n",
        "            tentative_g = g_score[current] + cost\n",
        "\n",
        "            if tentative_g < g_score[neighbor]:\n",
        "                came_from[neighbor] = current\n",
        "                g_score[neighbor] = tentative_g\n",
        "                f_score[neighbor] = tentative_g + manhattan_distance(neighbor, goal)\n",
        "                heapq.heappush(open_list, (f_score[neighbor], neighbor))\n",
        "\n",
        "    return None, float('inf')\n"
      ],
      "metadata": {
        "id": "tPbzhaCpNi1L"
      },
      "execution_count": 38,
      "outputs": []
    },
    {
      "cell_type": "code",
      "source": [],
      "metadata": {
        "id": "3Fpr4LB2UYkv"
      },
      "execution_count": null,
      "outputs": []
    },
    {
      "cell_type": "code",
      "source": [
        "TASK 3\n"
      ],
      "metadata": {
        "colab": {
          "base_uri": "https://localhost:8080/",
          "height": 106
        },
        "id": "561shsPMPK7q",
        "outputId": "ff4c3c01-1a34-4f07-e645-be3051532d87"
      },
      "execution_count": 42,
      "outputs": [
        {
          "output_type": "error",
          "ename": "SyntaxError",
          "evalue": "invalid syntax (ipython-input-2314612593.py, line 1)",
          "traceback": [
            "\u001b[0;36m  File \u001b[0;32m\"/tmp/ipython-input-2314612593.py\"\u001b[0;36m, line \u001b[0;32m1\u001b[0m\n\u001b[0;31m    TASK 3\u001b[0m\n\u001b[0m         ^\u001b[0m\n\u001b[0;31mSyntaxError\u001b[0m\u001b[0;31m:\u001b[0m invalid syntax\n"
          ]
        }
      ]
    },
    {
      "cell_type": "code",
      "source": [
        "def print_board(board):\n",
        "    for row in board:\n",
        "        print(row)\n",
        "\n",
        "def check_winner(board):\n",
        "    # Check rows\n",
        "    for i in range(3):\n",
        "        if board[i][0] == board[i][1] == board[i][2] != '_':\n",
        "            return board[i][0]\n",
        "\n",
        "    # Check columns\n",
        "    for i in range(3):\n",
        "        if board[0][i] == board[1][i] == board[2][i] != '_':\n",
        "            return board[0][i]\n",
        "\n",
        "    # Check diagonals\n",
        "    if board[0][0] == board[1][1] == board[2][2] != '_':\n",
        "        return board[0][0]\n",
        "    if board[0][2] == board[1][1] == board[2][0] != '_':\n",
        "        return board[0][2]\n",
        "\n",
        "    # No winner\n",
        "    return None\n",
        "\n",
        "def is_full(board):\n",
        "    return all(cell != '_' for row in board for cell in row)\n",
        "\n",
        "def minimax(board, is_maximizing):\n",
        "    winner = check_winner(board)\n",
        "    if winner == 'X':\n",
        "        return 1\n",
        "    elif winner == 'O':\n",
        "        return -1\n",
        "    elif is_full(board):\n",
        "        return 0\n",
        "\n",
        "    if is_maximizing:\n",
        "        best_score = -float('inf')\n",
        "        for i in range(3):\n",
        "            for j in range(3):\n",
        "                if board[i][j] == '_':\n",
        "                    board[i][j] = 'X'\n",
        "                    score = minimax(board, False)\n",
        "                    board[i][j] = '_'\n",
        "                    best_score = max(score, best_score)\n",
        "        return best_score\n",
        "    else:\n",
        "        best_score = float('inf')\n",
        "        for i in range(3):\n",
        "            for j in range(3):\n",
        "                if board[i][j] == '_':\n",
        "                    board[i][j] = 'O'\n",
        "                    score = minimax(board, True)\n",
        "                    board[i][j] = '_'\n",
        "                    best_score = min(score, best_score)\n",
        "        return best_score\n",
        "\n",
        "def best_move(board):\n",
        "    best_score = -float('inf')\n",
        "    move = None\n",
        "    for i in range(3):\n",
        "        for j in range(3):\n",
        "            if board[i][j] == '_':\n",
        "                board[i][j] = 'X'\n",
        "                score = minimax(board, False)\n",
        "                board[i][j] = '_'\n",
        "                if score > best_score:\n",
        "                    best_score = score\n",
        "                    move = (i, j)\n",
        "    return move"
      ],
      "metadata": {
        "id": "uRGdPaPqPJSz"
      },
      "execution_count": null,
      "outputs": []
    },
    {
      "cell_type": "markdown",
      "source": [
        "TASK 4"
      ],
      "metadata": {
        "id": "tXiAGhprPnyi"
      }
    },
    {
      "cell_type": "code",
      "source": [],
      "metadata": {
        "id": "2cqpEeRRPpcS"
      },
      "execution_count": null,
      "outputs": []
    }
  ]
}