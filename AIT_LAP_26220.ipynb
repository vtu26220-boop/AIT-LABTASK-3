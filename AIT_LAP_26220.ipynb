{
  "nbformat": 4,
  "nbformat_minor": 0,
  "metadata": {
    "colab": {
      "provenance": [],
      "authorship_tag": "ABX9TyO5Z1IA50Uzks8Ur9/zWHgf",
      "include_colab_link": true
    },
    "kernelspec": {
      "name": "python3",
      "display_name": "Python 3"
    },
    "language_info": {
      "name": "python"
    }
  },
  "cells": [
    {
      "cell_type": "markdown",
      "metadata": {
        "id": "view-in-github",
        "colab_type": "text"
      },
      "source": [
        "<a href=\"https://colab.research.google.com/github/vtu26220-boop/AIT-LABTASK-3/blob/main/AIT_LAP_26220.ipynb\" target=\"_parent\"><img src=\"https://colab.research.google.com/assets/colab-badge.svg\" alt=\"Open In Colab\"/></a>"
      ]
    },
    {
      "cell_type": "code",
      "execution_count": 1,
      "metadata": {
        "colab": {
          "base_uri": "https://localhost:8080/"
        },
        "id": "EYzZnVMrI6aX",
        "outputId": "6ea18cfe-09e1-49d5-cd31-33d00a1dd941"
      },
      "outputs": [
        {
          "output_type": "stream",
          "name": "stdout",
          "text": [
            "Monkey-Banana Planning Actions:\n",
            "▶ Walk from door to window\n",
            "▶ Push box from window to middle\n",
            "\n",
            "Final State:\n",
            "monkey_location: middle\n",
            "box_location: middle\n",
            "monkey_on_box: False\n",
            "monkey_has_banana: False\n"
          ]
        }
      ],
      "source": [
        "state = {\n",
        "    'monkey_location': 'door',\n",
        "    'box_location': 'window',\n",
        "    'monkey_on_box': False,\n",
        "    'monkey_has_banana': False\n",
        "}\n",
        "\n",
        "goal_stack = ['has(monkey, banana)']\n",
        "actions = []\n",
        "\n",
        "def walk(x, y):\n",
        "    state['monkey_location'] = y\n",
        "    actions.append(f\"Walk from {x} to {y}\")\n",
        "\n",
        "def push(x, y):\n",
        "    state['monkey_location'] = y\n",
        "    state['box_location'] = y\n",
        "    actions.append(f\"Push box from {x} to {y}\")\n",
        "\n",
        "def climb_up():\n",
        "    state['monkey_on_box'] = True\n",
        "    actions.append(\"Climb up the box\")\n",
        "\n",
        "def grasp():\n",
        "    state['monkey_has_banana'] = True\n",
        "    actions.append(\"Grasp the banana\")\n",
        "\n",
        "while goal_stack:\n",
        "    goal = goal_stack.pop()\n",
        "\n",
        "    if goal == 'has(monkey, banana)':\n",
        "        if not state['monkey_has_banana']:\n",
        "            goal_stack.append('perform(grasp)')\n",
        "            goal_stack.append('at(monkey, middle)')\n",
        "            goal_stack.append('on(monkey, box)')\n",
        "\n",
        "    elif goal == 'perform(grasp)':\n",
        "        if state['monkey_location'] == 'middle' and state['monkey_on_box']:\n",
        "            grasp()\n",
        "\n",
        "    elif goal == 'on(monkey, box)':\n",
        "        if not state['monkey_on_box']:\n",
        "            if state['monkey_location'] == state['box_location']:\n",
        "                goal_stack.append('perform(climb_up)')\n",
        "            else:\n",
        "                goal_stack.append(f'at(monkey, {state[\"box_location\"]})')\n",
        "\n",
        "    elif goal == 'perform(climb_up)':\n",
        "        climb_up()\n",
        "\n",
        "    elif goal.startswith('at(monkey,'):\n",
        "        target = goal.split(',')[1].strip(' )')\n",
        "        if state['monkey_location'] != target:\n",
        "            if state['monkey_location'] == state['box_location']:\n",
        "                push(state['box_location'], target)\n",
        "            else:\n",
        "                walk(state['monkey_location'], target)\n",
        "\n",
        "print(\"Monkey-Banana Planning Actions:\")\n",
        "for step in actions:\n",
        "    print(\"▶\", step)\n",
        "\n",
        "print(\"\\nFinal State:\")\n",
        "for key, value in state.items():\n",
        "    print(f\"{key}: {value}\")\n"
      ]
    },
    {
      "cell_type": "markdown",
      "source": [
        "task 7"
      ],
      "metadata": {
        "id": "1cr8R8yDJ-j0"
      }
    },
    {
      "cell_type": "code",
      "source": [
        "import random\n",
        "import numpy as np\n",
        "\n",
        "# Distance matrix (simulated travel time between delivery points)\n",
        "distance_matrix = [\n",
        "    [0, 2, 2, 5, 7],\n",
        "    [2, 0, 4, 8, 2],\n",
        "    [2, 4, 0, 1, 3],\n",
        "    [5, 8, 1, 0, 2],\n",
        "    [7, 2, 3, 2, 0]\n",
        "]\n",
        "\n",
        "num_ants = 5\n",
        "num_cities = len(distance_matrix)\n",
        "num_iterations = 100\n",
        "evaporation_rate = 0.5\n",
        "alpha = 1  # pheromone importance\n",
        "beta = 2   # distance importance\n",
        "\n",
        "# Initialize pheromone levels\n",
        "pheromone = [[1 for _ in range(num_cities)] for _ in range(num_cities)]\n",
        "\n",
        "def calculate_probability(from_city, to_city, visited):\n",
        "    if to_city in visited:\n",
        "        return 0\n",
        "    pher = pheromone[from_city][to_city] ** alpha\n",
        "    heuristic = (1 / distance_matrix[from_city][to_city]) ** beta\n",
        "    return pher * heuristic\n",
        "\n",
        "def select_next_city(current_city, visited):\n",
        "    probabilities = [calculate_probability(current_city, i, visited) for i in range(num_cities)]\n",
        "    total = sum(probabilities)\n",
        "    if total == 0:\n",
        "        return random.choice([i for i in range(num_cities) if i not in visited])\n",
        "    probabilities = [p / total for p in probabilities]\n",
        "    return np.random.choice(range(num_cities), p=probabilities)\n",
        "\n",
        "def build_solution():\n",
        "    solutions = []\n",
        "    for _ in range(num_ants):\n",
        "        visited = []\n",
        "        current_city = random.randint(0, num_cities - 1)\n",
        "        visited.append(current_city)\n",
        "\n",
        "        while len(visited) < num_cities:\n",
        "            next_city = select_next_city(current_city, visited)\n",
        "            visited.append(next_city)\n",
        "            current_city = next_city\n",
        "        solutions.append(visited)\n",
        "    return solutions\n",
        "\n",
        "def route_distance(route):\n",
        "    return sum(distance_matrix[route[i]][route[i + 1]] for i in range(len(route) - 1)) + distance_matrix[route[-1]][route[0]]\n",
        "\n",
        "def update_pheromones(solutions):\n",
        "    global pheromone\n",
        "    for i in range(num_cities):\n",
        "        for j in range(num_cities):\n",
        "            pheromone[i][j] *= (1 - evaporation_rate)\n",
        "    for route in solutions:\n",
        "        dist = route_distance(route)\n",
        "        for i in range(num_cities):\n",
        "            from_city = route[i]\n",
        "            to_city = route[(i + 1) % num_cities]\n",
        "            pheromone[from_city][to_city] += 1.0 / dist\n",
        "\n",
        "best_route = None\n",
        "best_distance = float('inf')\n",
        "\n",
        "for _ in range(num_iterations):\n",
        "    solutions = build_solution()\n",
        "    update_pheromones(solutions)\n",
        "    for route in solutions:\n",
        "        dist = route_distance(route)\n",
        "        if dist < best_distance:\n",
        "            best_distance = dist\n",
        "            best_route = route\n",
        "\n",
        "print(\"Best route found:\", best_route)\n",
        "print(\"Total trip duration:\", best_distance)\n"
      ],
      "metadata": {
        "colab": {
          "base_uri": "https://localhost:8080/"
        },
        "id": "KLC1oHcgKuKN",
        "outputId": "5ffd990f-da78-467c-d581-7580a1a82567"
      },
      "execution_count": 2,
      "outputs": [
        {
          "output_type": "stream",
          "name": "stdout",
          "text": [
            "Best route found: [4, np.int64(3), np.int64(2), np.int64(0), np.int64(1)]\n",
            "Total trip duration: 9\n"
          ]
        }
      ]
    },
    {
      "cell_type": "markdown",
      "source": [
        "task 5"
      ],
      "metadata": {
        "id": "Hu1m_OkiNnmz"
      }
    },
    {
      "cell_type": "code",
      "source": [
        "def print_board(board):\n",
        "    for row in board:\n",
        "        print(row)\n",
        "    print()\n",
        "\n",
        "def check_winner(board):\n",
        "    for i in range(3):\n",
        "        # Check rows\n",
        "        if board[i][0] == board[i][1] == board[i][2] != '_':\n",
        "            return board[i][0]\n",
        "        # Check columns\n",
        "        if board[0][i] == board[1][i] == board[2][i] != '_':\n",
        "            return board[0][i]\n",
        "    # Check diagonals\n",
        "    if board[0][0] == board[1][1] == board[2][2] != '_':\n",
        "        return board[0][0]\n",
        "    if board[0][2] == board[1][1] == board[2][0] != '_':\n",
        "        return board[0][2]\n",
        "    return None\n",
        "\n",
        "def is_full(board):\n",
        "    for row in board:\n",
        "        if '_' in row:\n",
        "            return False\n",
        "    return True\n",
        "\n",
        "def minimax(board, is_maximizing):\n",
        "    winner = check_winner(board)\n",
        "    if winner == 'X':\n",
        "        return 1\n",
        "    elif winner == 'O':\n",
        "        return -1\n",
        "    elif is_full(board):\n",
        "        return 0\n",
        "\n",
        "    if is_maximizing:\n",
        "        best_score = -float('inf')\n",
        "        for i in range(3):\n",
        "            for j in range(3):\n",
        "                if board[i][j] == '_':\n",
        "                    board[i][j] = 'X'\n",
        "                    score = minimax(board, False)\n",
        "                    board[i][j] = '_'\n",
        "                    best_score = max(score, best_score)\n",
        "        return best_score\n",
        "    else:\n",
        "        best_score = float('inf')\n",
        "        for i in range(3):\n",
        "            for j in range(3):\n",
        "                if board[i][j] == '_':\n",
        "                    board[i][j] = 'O'\n",
        "                    score = minimax(board, True)\n",
        "                    board[i][j] = '_'\n",
        "                    best_score = min(score, best_score)\n",
        "        return best_score\n",
        "\n",
        "def best_move(board):\n",
        "    best_score = -float('inf')\n",
        "    move = None\n",
        "    for i in range(3):\n",
        "        for j in range(3):\n",
        "            if board[i][j] == '_':\n",
        "                board[i][j] = 'X'\n",
        "                score = minimax(board, False)\n",
        "                board[i][j] = '_'\n",
        "                if score > best_score:\n",
        "                    best_score = score\n",
        "                    move = (i, j)\n",
        "    return move\n"
      ],
      "metadata": {
        "id": "OaJ3g1OpN-Wq"
      },
      "execution_count": 14,
      "outputs": []
    },
    {
      "cell_type": "markdown",
      "source": [
        "task 4"
      ],
      "metadata": {
        "id": "iHF5GP3VOU7K"
      }
    }
  ]
}