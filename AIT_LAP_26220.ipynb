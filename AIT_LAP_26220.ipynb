{
  "nbformat": 4,
  "nbformat_minor": 0,
  "metadata": {
    "colab": {
      "provenance": [],
      "authorship_tag": "ABX9TyPYguUhm2rCQNo0zDufHvzQ",
      "include_colab_link": true
    },
    "kernelspec": {
      "name": "python3",
      "display_name": "Python 3"
    },
    "language_info": {
      "name": "python"
    }
  },
  "cells": [
    {
      "cell_type": "markdown",
      "metadata": {
        "id": "view-in-github",
        "colab_type": "text"
      },
      "source": [
        "<a href=\"https://colab.research.google.com/github/vtu26220-boop/AIT-LABTASK-3/blob/main/AIT_LAP_26220.ipynb\" target=\"_parent\"><img src=\"https://colab.research.google.com/assets/colab-badge.svg\" alt=\"Open In Colab\"/></a>"
      ]
    },
    {
      "cell_type": "code",
      "execution_count": 2,
      "metadata": {
        "id": "cCJ0jiGIDQph",
        "colab": {
          "base_uri": "https://localhost:8080/"
        },
        "outputId": "57d5b5bb-1ca2-4e4b-8497-c5804fabf262"
      },
      "outputs": [
        {
          "output_type": "stream",
          "name": "stdout",
          "text": [
            "Valid configurations for placing 4 guards:\n",
            "\n",
            ". G . .\n",
            ". . . G\n",
            "G . . .\n",
            ". . G .\n",
            "\n",
            ". . G .\n",
            "G . . .\n",
            ". . . G\n",
            ". G . .\n",
            "\n"
          ]
        },
        {
          "output_type": "execute_result",
          "data": {
            "text/plain": [
              "True"
            ]
          },
          "metadata": {},
          "execution_count": 2
        }
      ],
      "source": [
        "N = 4 # Size of the grid\n",
        "# Function to print the board\n",
        "def print_board(board):\n",
        "    for row in board:\n",
        "        print(\" \".join('G' if col else '.' for col in row))\n",
        "    print()\n",
        "\n",
        "# Check if it's safe to place a guard at board[row][col]\n",
        "def is_safe(board, row, col):\n",
        "    # Check vertical up\n",
        "    for i in range(row):\n",
        "        if board[i][col] == 1:\n",
        "            return False\n",
        "    # Check upper left diagonal\n",
        "    i, j = row - 1, col - 1\n",
        "    while i >= 0 and j >= 0:\n",
        "        if board[i][j] == 1:\n",
        "            return False\n",
        "        i -= 1\n",
        "        j -= 1\n",
        "    # Check upper right diagonal\n",
        "    i, j = row - 1, col + 1\n",
        "    while i >= 0 and j < N:\n",
        "        if board[i][j] == 1:\n",
        "            return False\n",
        "        i -= 1\n",
        "        j += 1\n",
        "    return True\n",
        "\n",
        "# Backtracking function\n",
        "def solve_n_queens(board, row):\n",
        "    if row == N:\n",
        "        print_board(board)\n",
        "        return True\n",
        "    res = False\n",
        "    for col in range(N):\n",
        "        if is_safe(board, row, col):\n",
        "            board[row][col] = 1\n",
        "            res = solve_n_queens(board, row + 1) or res\n",
        "            board[row][col] = 0  # Backtrack\n",
        "    return res\n",
        "\n",
        "# Initialize the board\n",
        "board = [[0 for _ in range(N)] for _ in range(N)]\n",
        "print(\"Valid configurations for placing 4 guards:\\n\")\n",
        "solve_n_queens(board, 0)\n"
      ]
    },
    {
      "cell_type": "markdown",
      "source": [
        "task 8"
      ],
      "metadata": {
        "id": "EOnDAe49Hett"
      }
    },
    {
      "cell_type": "code",
      "source": [
        "# Grid coordinates: (x, y)\n",
        "toy_position = (2, 2)        # Toy is placed at center ceiling\n",
        "box_position = [0, 0]        # Initial box position\n",
        "puppy_position = [0, 1]      # Puppy starts in corner\n",
        "has_toy = False\n",
        "on_box = False\n",
        "\n",
        "# Action log\n",
        "actions = []\n",
        "\n",
        "# Define room size (optional for visualization)\n",
        "room_size = 3  # 3x3 grid\n",
        "\n",
        "\n",
        "# ---------- Helper functions ---------- #\n",
        "def walk(to):\n",
        "    \"\"\"Move the puppy to a location.\"\"\"\n",
        "    global puppy_position\n",
        "    actions.append(f\"Walk from {tuple(puppy_position)} to {to}\")\n",
        "    puppy_position[0], puppy_position[1] = to\n",
        "\n",
        "\n",
        "def push_box(to):\n",
        "    \"\"\"Push the box to a location (puppy moves with box).\"\"\"\n",
        "    global puppy_position, box_position\n",
        "    actions.append(f\"Push box from {tuple(box_position)} to {to}\")\n",
        "    box_position[0], box_position[1] = to\n",
        "    puppy_position[0], puppy_position[1] = to\n",
        "\n",
        "\n",
        "def climb_box():\n",
        "    \"\"\"Puppy climbs onto the box.\"\"\"\n",
        "    global on_box\n",
        "    actions.append(\"Climb on box\")\n",
        "    on_box = True\n",
        "\n",
        "\n",
        "def grab_toy():\n",
        "    \"\"\"Puppy grabs the toy.\"\"\"\n",
        "    global has_toy\n",
        "    actions.append(\"Grab the toy\")\n",
        "    has_toy = True\n",
        "\n",
        "\n",
        "# ---------- Goal Stack Planning ---------- #\n",
        "stack = ['HasToy']\n",
        "\n",
        "while stack:\n",
        "    goal = stack.pop()\n",
        "\n",
        "    if goal == 'HasToy':\n",
        "        if has_toy:\n",
        "            continue\n",
        "        if puppy_position == box_position == list(toy_position) and on_box:\n",
        "            grab_toy()\n",
        "        else:\n",
        "            stack.append('HasToy')                      # retry after subgoals\n",
        "            stack.append('OnBox')\n",
        "            stack.append(('MoveBoxUnderToy', toy_position))\n",
        "\n",
        "    elif goal == 'OnBox':\n",
        "        if on_box:\n",
        "            continue\n",
        "        if puppy_position == box_position:\n",
        "            climb_box()\n",
        "        else:\n",
        "            stack.append('OnBox')\n",
        "            stack.append(('WalkTo', tuple(box_position)))\n",
        "\n",
        "    elif isinstance(goal, tuple) and goal[0] == 'MoveBoxUnderToy':\n",
        "        target = goal[1]\n",
        "        if box_position == list(target):\n",
        "            continue\n",
        "        stack.append(('MoveBoxUnderToy', target))\n",
        "        stack.append(('WalkTo', tuple(box_position)))\n",
        "        stack.append(('PushBoxTo', target))\n",
        "\n",
        "    elif isinstance(goal, tuple) and goal[0] == 'WalkTo':\n",
        "        target = goal[1]\n",
        "        if puppy_position == list(target):\n",
        "            continue\n",
        "        walk(target)\n",
        "\n",
        "    elif isinstance(goal, tuple) and goal[0] == 'PushBoxTo':\n",
        "        target = goal[1]\n",
        "        if box_position == list(target):\n",
        "            continue\n",
        "        push_box(target)\n",
        "\n",
        "\n",
        "# ---------- Display the steps ---------- #\n",
        "print(\"Plan to achieve goal:\")\n",
        "for step in actions:\n",
        "    print(\"-\", step)\n",
        "\n",
        "# ---------- Final state ---------- #\n",
        "print(\"\\nFinal State:\")\n",
        "print(\"Puppy Position:\", tuple(puppy_position))\n",
        "print(\"Box Position:\", tuple(box_position))\n",
        "print(\"On Box:\", on_box)\n",
        "print(\"Has Toy:\", has_toy)\n"
      ],
      "metadata": {
        "colab": {
          "base_uri": "https://localhost:8080/"
        },
        "id": "P3_--ZmdHmCm",
        "outputId": "73cc271b-47ad-460b-e037-d6dd63504c4f"
      },
      "execution_count": 4,
      "outputs": [
        {
          "output_type": "stream",
          "name": "stdout",
          "text": [
            "Plan to achieve goal:\n",
            "- Push box from (0, 0) to (2, 2)\n",
            "- Walk from (2, 2) to (0, 0)\n",
            "- Walk from (0, 0) to (2, 2)\n",
            "- Climb on box\n",
            "- Grab the toy\n",
            "\n",
            "Final State:\n",
            "Puppy Position: (2, 2)\n",
            "Box Position: (2, 2)\n",
            "On Box: True\n",
            "Has Toy: True\n"
          ]
        }
      ]
    },
    {
      "cell_type": "markdown",
      "source": [
        "task 7.B"
      ],
      "metadata": {
        "id": "YbXaONslJZ1m"
      }
    }
  ]
}