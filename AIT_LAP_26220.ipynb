{
  "nbformat": 4,
  "nbformat_minor": 0,
  "metadata": {
    "colab": {
      "provenance": [],
      "authorship_tag": "ABX9TyNAj0ut9fYzg0wKOVwsNX27",
      "include_colab_link": true
    },
    "kernelspec": {
      "name": "python3",
      "display_name": "Python 3"
    },
    "language_info": {
      "name": "python"
    }
  },
  "cells": [
    {
      "cell_type": "markdown",
      "metadata": {
        "id": "view-in-github",
        "colab_type": "text"
      },
      "source": [
        "<a href=\"https://colab.research.google.com/github/vtu26220-boop/AIT-LABTASK-3/blob/main/AIT_LAP_26220.ipynb\" target=\"_parent\"><img src=\"https://colab.research.google.com/assets/colab-badge.svg\" alt=\"Open In Colab\"/></a>"
      ]
    },
    {
      "cell_type": "code",
      "execution_count": 1,
      "metadata": {
        "colab": {
          "base_uri": "https://localhost:8080/"
        },
        "id": "EYzZnVMrI6aX",
        "outputId": "6ea18cfe-09e1-49d5-cd31-33d00a1dd941"
      },
      "outputs": [
        {
          "output_type": "stream",
          "name": "stdout",
          "text": [
            "Monkey-Banana Planning Actions:\n",
            "▶ Walk from door to window\n",
            "▶ Push box from window to middle\n",
            "\n",
            "Final State:\n",
            "monkey_location: middle\n",
            "box_location: middle\n",
            "monkey_on_box: False\n",
            "monkey_has_banana: False\n"
          ]
        }
      ],
      "source": [
        "state = {\n",
        "    'monkey_location': 'door',\n",
        "    'box_location': 'window',\n",
        "    'monkey_on_box': False,\n",
        "    'monkey_has_banana': False\n",
        "}\n",
        "\n",
        "goal_stack = ['has(monkey, banana)']\n",
        "actions = []\n",
        "\n",
        "def walk(x, y):\n",
        "    state['monkey_location'] = y\n",
        "    actions.append(f\"Walk from {x} to {y}\")\n",
        "\n",
        "def push(x, y):\n",
        "    state['monkey_location'] = y\n",
        "    state['box_location'] = y\n",
        "    actions.append(f\"Push box from {x} to {y}\")\n",
        "\n",
        "def climb_up():\n",
        "    state['monkey_on_box'] = True\n",
        "    actions.append(\"Climb up the box\")\n",
        "\n",
        "def grasp():\n",
        "    state['monkey_has_banana'] = True\n",
        "    actions.append(\"Grasp the banana\")\n",
        "\n",
        "while goal_stack:\n",
        "    goal = goal_stack.pop()\n",
        "\n",
        "    if goal == 'has(monkey, banana)':\n",
        "        if not state['monkey_has_banana']:\n",
        "            goal_stack.append('perform(grasp)')\n",
        "            goal_stack.append('at(monkey, middle)')\n",
        "            goal_stack.append('on(monkey, box)')\n",
        "\n",
        "    elif goal == 'perform(grasp)':\n",
        "        if state['monkey_location'] == 'middle' and state['monkey_on_box']:\n",
        "            grasp()\n",
        "\n",
        "    elif goal == 'on(monkey, box)':\n",
        "        if not state['monkey_on_box']:\n",
        "            if state['monkey_location'] == state['box_location']:\n",
        "                goal_stack.append('perform(climb_up)')\n",
        "            else:\n",
        "                goal_stack.append(f'at(monkey, {state[\"box_location\"]})')\n",
        "\n",
        "    elif goal == 'perform(climb_up)':\n",
        "        climb_up()\n",
        "\n",
        "    elif goal.startswith('at(monkey,'):\n",
        "        target = goal.split(',')[1].strip(' )')\n",
        "        if state['monkey_location'] != target:\n",
        "            if state['monkey_location'] == state['box_location']:\n",
        "                push(state['box_location'], target)\n",
        "            else:\n",
        "                walk(state['monkey_location'], target)\n",
        "\n",
        "print(\"Monkey-Banana Planning Actions:\")\n",
        "for step in actions:\n",
        "    print(\"▶\", step)\n",
        "\n",
        "print(\"\\nFinal State:\")\n",
        "for key, value in state.items():\n",
        "    print(f\"{key}: {value}\")\n"
      ]
    },
    {
      "cell_type": "markdown",
      "source": [
        "task 6"
      ],
      "metadata": {
        "id": "1cr8R8yDJ-j0"
      }
    }
  ]
}